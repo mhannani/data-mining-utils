{
 "cells": [
  {
   "cell_type": "markdown",
   "id": "02b508f6-001f-4a4e-8156-9b7d86487a17",
   "metadata": {},
   "source": [
    "## Measure the similarity between images by calculating their histograms"
   ]
  },
  {
   "cell_type": "markdown",
   "id": "3d41360b-1db3-4800-aee8-fd76b81247fb",
   "metadata": {},
   "source": [
    "A histogram is a very important tool in Image processing. It is a graphical representation of the distribution of data. An image histogram gives a graphical representation of the distribution of pixel intensities in a digital image."
   ]
  },
  {
   "cell_type": "markdown",
   "id": "dc00b9ba-da2f-4a97-a348-2c559635a11d",
   "metadata": {},
   "source": [
    "The x-axis indicates the range of values the variable can take. This range can be divided into a series of intervals called bins. \n",
    "\n",
    "The y-axis shows the count of how many values fall within that interval or bin.\n",
    "When plotting the histogram we have the pixel intensity in the X-axis and the frequency in the Y-axis. As any other histogram we can decide how many bins to use.\n",
    "\n",
    "A histogram can be calculated both for the gray-scale image and for the colored image.\n",
    "In the first case we have a single channel, hence a single histogram. In the second case we have 3 channels, hence 3 histograms.\n",
    "\n",
    "Calculating the histogram of an image is very useful as it gives an intuition regarding some properties of the image such as the tonal range, the contrast and the brightness.\n",
    "\n",
    "* To identify the dominant colors in an image, we can use the histogram plot of the Hue channel."
   ]
  },
  {
   "cell_type": "code",
   "execution_count": null,
   "id": "8d44cb97-956e-4335-9f2c-92f8a16ab778",
   "metadata": {},
   "outputs": [],
   "source": []
  }
 ],
 "metadata": {
  "kernelspec": {
   "display_name": "Python 3",
   "language": "python",
   "name": "python3"
  },
  "language_info": {
   "codemirror_mode": {
    "name": "ipython",
    "version": 3
   },
   "file_extension": ".py",
   "mimetype": "text/x-python",
   "name": "python",
   "nbconvert_exporter": "python",
   "pygments_lexer": "ipython3",
   "version": "3.8.8"
  }
 },
 "nbformat": 4,
 "nbformat_minor": 5
}
