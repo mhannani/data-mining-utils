{
 "cells": [
  {
   "cell_type": "markdown",
   "id": "8a53ad5d-bae1-43ab-af48-4b3fce4afbfe",
   "metadata": {},
   "source": [
    "# Computing similarity measures between two images"
   ]
  },
  {
   "cell_type": "code",
   "execution_count": 1,
   "id": "6495863e-bd13-47a6-86ce-f016337e171f",
   "metadata": {},
   "outputs": [],
   "source": [
    "import matplotlib.pyplot as plt\n",
    "import numpy as np"
   ]
  },
  {
   "cell_type": "markdown",
   "id": "5b210732-c736-4d43-9a0b-d5ac49e76313",
   "metadata": {},
   "source": [
    "The state or fact of being similar or Similarity measures how much two objects are alike. Similarity measure in a data mining context is a distance with dimensions representing features of the objects. If distance is small, two objects are very similar where as if distance is large we will observe low degree of similarity.\n",
    "\n",
    "There are lot of similarity measures. But here we will look into 2 most important measures"
   ]
  },
  {
   "cell_type": "markdown",
   "id": "075f63f7-0b78-42d1-a669-f1a7d18397d0",
   "metadata": {},
   "source": [
    "## 1. Cosine similarity"
   ]
  },
  {
   "cell_type": "markdown",
   "id": "44977654-f5e6-4fdd-b56e-38488163697c",
   "metadata": {},
   "source": [
    "Cosine similarity is a metric used to measure how similar the documents are irrespective of their size. Mathematically, it measures the cosine of the angle between two vectors projected in a multi-dimensional space. The cosine similarity is advantageous because even if the two similar documents are far apart by the Euclidean distance (due to the size of the document), chances are they may still be oriented closer together. The smaller the angle, higher the cosine similarity."
   ]
  },
  {
   "cell_type": "markdown",
   "id": "dc84e33f-3c0c-418a-8672-ac9cbbfac5f6",
   "metadata": {},
   "source": [
    "![houses](images/cosine_similarity.png)"
   ]
  },
  {
   "cell_type": "markdown",
   "id": "d8412212-f1d3-4b5b-9857-7fe3cec32bfd",
   "metadata": {},
   "source": [
    "$$\\operatorname{Cos} \\theta=\\frac{\\vec{a} \\cdot \\vec{b}}{\\|\\vec{a}\\|\\|\\vec{b}\\|}=\\frac{\\sum_{1}^{n} a_{i} b_{i}}{\\sqrt{\\sum_{1}^{n} a_{i}^{2}} \\sqrt{\\sum_{1}^{n} b_{i}^{2}}}$$"
   ]
  },
  {
   "cell_type": "code",
   "execution_count": 2,
   "id": "113e3c3d-3ca4-49b1-b2c5-be673a339968",
   "metadata": {},
   "outputs": [],
   "source": [
    "# Read images\n",
    "img_1 = plt.imread('images/image1_.jpg')\n",
    "img_2 = plt.imread('images/image2_.jpg')"
   ]
  },
  {
   "cell_type": "code",
   "execution_count": 3,
   "id": "ad4a89c7-e1df-48bd-afee-b3b5f4567d68",
   "metadata": {},
   "outputs": [],
   "source": [
    "from similarity.cosine_similarity import cosine"
   ]
  },
  {
   "cell_type": "code",
   "execution_count": 11,
   "id": "57515966-333c-4a54-ac48-a514c390fcc6",
   "metadata": {},
   "outputs": [],
   "source": [
    "c = cosine([0, 1], [1, 1])"
   ]
  },
  {
   "cell_type": "code",
   "execution_count": 12,
   "id": "3bc03811-0b42-4a3f-bc27-926d4e2e091b",
   "metadata": {},
   "outputs": [
    {
     "data": {
      "text/plain": [
       "0.7071067811865475"
      ]
     },
     "execution_count": 12,
     "metadata": {},
     "output_type": "execute_result"
    }
   ],
   "source": [
    "c"
   ]
  },
  {
   "cell_type": "code",
   "execution_count": 13,
   "id": "50494924-9556-431b-b289-f25a209c718a",
   "metadata": {},
   "outputs": [],
   "source": [
    "# Let's use the built-in function in scikit-learn to compute the cosine similarity\n",
    "from sklearn.metrics.pairwise import cosine_similarity"
   ]
  },
  {
   "cell_type": "code",
   "execution_count": 15,
   "id": "286204b4-eab0-46f9-b8d8-9ba9296cdebf",
   "metadata": {},
   "outputs": [
    {
     "ename": "SyntaxError",
     "evalue": "closing parenthesis ')' does not match opening parenthesis '[' (<ipython-input-15-3afdb121048b>, line 1)",
     "output_type": "error",
     "traceback": [
      "\u001b[1;36m  File \u001b[1;32m\"<ipython-input-15-3afdb121048b>\"\u001b[1;36m, line \u001b[1;32m1\u001b[0m\n\u001b[1;33m    cosine_similarity([[0, 1]], [[1, 1])\u001b[0m\n\u001b[1;37m                                       ^\u001b[0m\n\u001b[1;31mSyntaxError\u001b[0m\u001b[1;31m:\u001b[0m closing parenthesis ')' does not match opening parenthesis '['\n"
     ]
    }
   ],
   "source": [
    "cosine_similarity([[0, 1]], [[1, 1])"
   ]
  },
  {
   "cell_type": "code",
   "execution_count": null,
   "id": "ef30f055-c5e7-4c5b-8fd7-1ebbb9389ff5",
   "metadata": {},
   "outputs": [],
   "source": []
  }
 ],
 "metadata": {
  "kernelspec": {
   "display_name": "Python 3",
   "language": "python",
   "name": "python3"
  },
  "language_info": {
   "codemirror_mode": {
    "name": "ipython",
    "version": 3
   },
   "file_extension": ".py",
   "mimetype": "text/x-python",
   "name": "python",
   "nbconvert_exporter": "python",
   "pygments_lexer": "ipython3",
   "version": "3.8.8"
  }
 },
 "nbformat": 4,
 "nbformat_minor": 5
}
