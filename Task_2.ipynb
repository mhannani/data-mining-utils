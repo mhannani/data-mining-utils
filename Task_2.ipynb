{
 "cells": [
  {
   "cell_type": "markdown",
   "id": "62268598-8e6a-4a9b-bf8f-137ef7d91ad9",
   "metadata": {},
   "source": [
    "# Correlation between images"
   ]
  },
  {
   "cell_type": "code",
   "execution_count": null,
   "id": "dc0d1692-b007-4e5e-b004-788856c3d820",
   "metadata": {},
   "outputs": [],
   "source": []
  }
 ],
 "metadata": {
  "kernelspec": {
   "display_name": "Python 3",
   "language": "python",
   "name": "python3"
  },
  "language_info": {
   "codemirror_mode": {
    "name": "ipython",
    "version": 3
   },
   "file_extension": ".py",
   "mimetype": "text/x-python",
   "name": "python",
   "nbconvert_exporter": "python",
   "pygments_lexer": "ipython3",
   "version": "3.8.5"
  }
 },
 "nbformat": 4,
 "nbformat_minor": 5
}
