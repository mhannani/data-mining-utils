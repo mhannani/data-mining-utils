{
 "cells": [
  {
   "cell_type": "markdown",
   "id": "42fb2b86",
   "metadata": {},
   "source": [
    "## Correlation"
   ]
  },
  {
   "cell_type": "markdown",
   "id": "e1e91d0a",
   "metadata": {},
   "source": [
    "* Is a measure of association between two variables.\n",
    "* It's easy to calculate and interpret when the two variables have well undertood Gussian distribution.\n",
    "* But when we don't know the distribution of the variables, we must use non-parametric rank correlation.\n",
    "\n",
    "Two associations have either:\n",
    "* Positive association: The two variables increase together.\n",
    "* Negative association: One inceases but the other decreases.\n",
    "* Neutral association: No association."
   ]
  },
  {
   "cell_type": "markdown",
   "id": "4c033004",
   "metadata": {},
   "source": [
    "We so earlier that methods as pearson are used to calculate the correlation between two variables that have Gaussian/Normal distribution, This method can not be used for non-Gaussian distribution, hence using rank correlation method like, spearman method.\n",
    "\n",
    "Because no distribution for the values is assumed, rank correlation mathods are referred to as distribution-free correlation or non-parametric correlation."
   ]
  },
  {
   "cell_type": "markdown",
   "id": "606b4110",
   "metadata": {},
   "source": [
    "Some rank correlation methods are :\n",
    "* Spearman's rank correlation.\n",
    "* Kendall's rank correlation.\n",
    "* Goodman and Kruskal’s Rank Correlation.\n",
    "* Somers’ Rank Correlation."
   ]
  },
  {
   "cell_type": "code",
   "execution_count": 16,
   "id": "5e683129",
   "metadata": {},
   "outputs": [],
   "source": [
    "import pandas as pd\n",
    "import numpy as np\n",
    "import seaborn as sns\n",
    "import matplotlib.pyplot as plt\n",
    "from scipy.stats import spearmanr, pearsonr"
   ]
  },
  {
   "cell_type": "code",
   "execution_count": 17,
   "id": "437c2146",
   "metadata": {},
   "outputs": [],
   "source": [
    "iq = [106, 86, 100, 101, 99, 103, 97, 113, 112, 110]\n",
    "tv_per_week = [7, 0, 27, 50, 28, 29, 20, 12, 6, 17]"
   ]
  },
  {
   "cell_type": "code",
   "execution_count": 18,
   "id": "84ef1b48",
   "metadata": {},
   "outputs": [
    {
     "data": {
      "text/html": [
       "<div>\n",
       "<style scoped>\n",
       "    .dataframe tbody tr th:only-of-type {\n",
       "        vertical-align: middle;\n",
       "    }\n",
       "\n",
       "    .dataframe tbody tr th {\n",
       "        vertical-align: top;\n",
       "    }\n",
       "\n",
       "    .dataframe thead th {\n",
       "        text-align: right;\n",
       "    }\n",
       "</style>\n",
       "<table border=\"1\" class=\"dataframe\">\n",
       "  <thead>\n",
       "    <tr style=\"text-align: right;\">\n",
       "      <th></th>\n",
       "      <th>IQ</th>\n",
       "      <th>tv per hour</th>\n",
       "    </tr>\n",
       "  </thead>\n",
       "  <tbody>\n",
       "    <tr>\n",
       "      <th>0</th>\n",
       "      <td>106</td>\n",
       "      <td>7</td>\n",
       "    </tr>\n",
       "    <tr>\n",
       "      <th>1</th>\n",
       "      <td>86</td>\n",
       "      <td>0</td>\n",
       "    </tr>\n",
       "    <tr>\n",
       "      <th>2</th>\n",
       "      <td>100</td>\n",
       "      <td>27</td>\n",
       "    </tr>\n",
       "    <tr>\n",
       "      <th>3</th>\n",
       "      <td>101</td>\n",
       "      <td>50</td>\n",
       "    </tr>\n",
       "    <tr>\n",
       "      <th>4</th>\n",
       "      <td>99</td>\n",
       "      <td>28</td>\n",
       "    </tr>\n",
       "    <tr>\n",
       "      <th>5</th>\n",
       "      <td>103</td>\n",
       "      <td>29</td>\n",
       "    </tr>\n",
       "    <tr>\n",
       "      <th>6</th>\n",
       "      <td>97</td>\n",
       "      <td>20</td>\n",
       "    </tr>\n",
       "    <tr>\n",
       "      <th>7</th>\n",
       "      <td>113</td>\n",
       "      <td>12</td>\n",
       "    </tr>\n",
       "    <tr>\n",
       "      <th>8</th>\n",
       "      <td>112</td>\n",
       "      <td>6</td>\n",
       "    </tr>\n",
       "    <tr>\n",
       "      <th>9</th>\n",
       "      <td>110</td>\n",
       "      <td>17</td>\n",
       "    </tr>\n",
       "  </tbody>\n",
       "</table>\n",
       "</div>"
      ],
      "text/plain": [
       "    IQ  tv per hour\n",
       "0  106            7\n",
       "1   86            0\n",
       "2  100           27\n",
       "3  101           50\n",
       "4   99           28\n",
       "5  103           29\n",
       "6   97           20\n",
       "7  113           12\n",
       "8  112            6\n",
       "9  110           17"
      ]
     },
     "execution_count": 18,
     "metadata": {},
     "output_type": "execute_result"
    }
   ],
   "source": [
    "data = pd.DataFrame({'IQ': iq, 'tv per hour': tv_per_week})\n",
    "data"
   ]
  },
  {
   "cell_type": "code",
   "execution_count": 19,
   "id": "f733b691",
   "metadata": {},
   "outputs": [],
   "source": [
    "from chartify.scatter_it import scatter_it"
   ]
  },
  {
   "cell_type": "code",
   "execution_count": 20,
   "id": "735b5f61",
   "metadata": {},
   "outputs": [
    {
     "data": {
      "image/png": "[encoded data removed]",
      "text/plain": [
       "<Figure size 432x288 with 1 Axes>"
      ]
     },
     "metadata": {
      "needs_background": "light"
     },
     "output_type": "display_data"
    }
   ],
   "source": [
    "scatter_it(data['IQ'], data['tv per hour'], 'IQ', 'tv per hours')"
   ]
  },
  {
   "cell_type": "code",
   "execution_count": 21,
   "id": "68b60158",
   "metadata": {},
   "outputs": [
    {
     "name": "stdout",
     "output_type": "stream",
     "text": [
      "rho = -0.17575757575757575, p = 0.6271883447764844\n"
     ]
    }
   ],
   "source": [
    "iq = data['IQ']\n",
    "tv_per_hour = data['tv per hour']\n",
    "rho, p_value = spearmanr(iq, tv_per_hour)\n",
    "print(f'rho = {rho}, p = {p_value}')"
   ]
  },
  {
   "cell_type": "code",
   "execution_count": 22,
   "id": "6f0be057",
   "metadata": {},
   "outputs": [
    {
     "name": "stdout",
     "output_type": "stream",
     "text": [
      "rho = -0.03760147384687601, p = 0.9178629727717285\n"
     ]
    }
   ],
   "source": [
    "iq = data['IQ']\n",
    "tv_per_hour = data['tv per hour']\n",
    "rho, p_value = pearsonr(iq, tv_per_hour)\n",
    "print(f'rho = {rho}, p = {p_value}')"
   ]
  },
  {
   "cell_type": "markdown",
   "id": "2375d51c",
   "metadata": {},
   "source": [
    "### Pearson implementation\n",
    "The pearson formula is :"
   ]
  },
  {
   "cell_type": "markdown",
   "id": "73ebe5db",
   "metadata": {},
   "source": [
    "$$\n",
    "\\rho_{X, Y} = \\frac{\\text{Cov}(X, Y)}{\\sigma_x \\sigma_y} \\approx \\frac{\\sum_{i=1}^n (x_i - \\bar{x})(y_i - \\bar{y})}{\\sqrt{\\sum_{i=1}^n (x_i - \\bar{x})^2}\\sqrt{\\sum_{i=1}^n(y_i - \\bar{y})^2}}\n",
    "$$"
   ]
  },
  {
   "cell_type": "markdown",
   "id": "6b78082e",
   "metadata": {},
   "source": [
    "* Cov(X, Y): co-variance of X and Y.\n",
    "* sigma(x) is the standard deviation of X\n",
    "* sigma(y) is the standard deviation of Y\n",
    "* x_bar is the mean of X."
   ]
  },
  {
   "cell_type": "code",
   "execution_count": 34,
   "id": "5363ac4f",
   "metadata": {
    "tags": []
   },
   "outputs": [],
   "source": [
    "from correlation.pearson import my_pearson"
   ]
  },
  {
   "cell_type": "code",
   "execution_count": 24,
   "id": "a9253700",
   "metadata": {},
   "outputs": [
    {
     "data": {
      "text/plain": [
       "-0.03760147384687592"
      ]
     },
     "execution_count": 24,
     "metadata": {},
     "output_type": "execute_result"
    }
   ],
   "source": [
    "my_pearson(iq, tv_per_hour)"
   ]
  },
  {
   "cell_type": "markdown",
   "id": "558a6bfa",
   "metadata": {},
   "source": [
    "As we see, we get the same result as the built-in scipy function"
   ]
  },
  {
   "cell_type": "markdown",
   "id": "a22b32b2",
   "metadata": {},
   "source": [
    "## Spearman implementation"
   ]
  },
  {
   "cell_type": "markdown",
   "id": "28371f1d",
   "metadata": {},
   "source": [
    "$$\n",
    "\\rho_S(X, Y) = \\frac{Cov(rk_X, rk_Y)}{\\sigma_x\\sigma_y} \\approx  \\frac{\\sum_{i=1}^n (rk(x_i) - rk(\\bar{x}))(rk(y_i) - rk(\\bar{y}))}{\\sqrt{\\sum_{i=1}^n (rk(x_i) - rk(\\bar{x}))^2}\\sqrt{\\sum_{i=1}^n(rk(y_i) - rk(\\bar{y}))^2}}\n",
    "$$"
   ]
  },
  {
   "cell_type": "markdown",
   "id": "d90cc90c",
   "metadata": {},
   "source": [
    "The spearman's coefficient is the same as pearson's coefficient, except in spearman we deal with the rank of the sample while in pearson we deal with the sample itself"
   ]
  },
  {
   "cell_type": "markdown",
   "id": "bfa01497",
   "metadata": {},
   "source": [
    "To compute the rank of each sample we gonna use the rankdata function in scipy library."
   ]
  },
  {
   "cell_type": "code",
   "execution_count": 25,
   "id": "79e8699f",
   "metadata": {},
   "outputs": [],
   "source": [
    "from scipy.stats import rankdata\n",
    "from correlation.spearman import my_spearman"
   ]
  },
  {
   "cell_type": "code",
   "execution_count": 26,
   "id": "8a5eeaa0",
   "metadata": {},
   "outputs": [
    {
     "data": {
      "text/plain": [
       "-0.17575757575757575"
      ]
     },
     "execution_count": 26,
     "metadata": {},
     "output_type": "execute_result"
    }
   ],
   "source": [
    "my_spearman(iq, tv_per_hour)"
   ]
  },
  {
   "cell_type": "code",
   "execution_count": 27,
   "id": "429f2726",
   "metadata": {},
   "outputs": [],
   "source": [
    "from correlation.spearman import spearman_method_process"
   ]
  },
  {
   "cell_type": "code",
   "execution_count": 28,
   "id": "31a52ea5",
   "metadata": {},
   "outputs": [],
   "source": [
    "df, rho = spearman_method_process(data)"
   ]
  },
  {
   "cell_type": "code",
   "execution_count": 29,
   "id": "2b7bd79e",
   "metadata": {},
   "outputs": [
    {
     "data": {
      "text/html": [
       "<div>\n",
       "<style scoped>\n",
       "    .dataframe tbody tr th:only-of-type {\n",
       "        vertical-align: middle;\n",
       "    }\n",
       "\n",
       "    .dataframe tbody tr th {\n",
       "        vertical-align: top;\n",
       "    }\n",
       "\n",
       "    .dataframe thead th {\n",
       "        text-align: right;\n",
       "    }\n",
       "</style>\n",
       "<table border=\"1\" class=\"dataframe\">\n",
       "  <thead>\n",
       "    <tr style=\"text-align: right;\">\n",
       "      <th></th>\n",
       "      <th>IQ</th>\n",
       "      <th>tv per hour</th>\n",
       "      <th>x rank</th>\n",
       "      <th>y rank</th>\n",
       "      <th>d</th>\n",
       "      <th>d^2</th>\n",
       "    </tr>\n",
       "  </thead>\n",
       "  <tbody>\n",
       "    <tr>\n",
       "      <th>0</th>\n",
       "      <td>106</td>\n",
       "      <td>7</td>\n",
       "      <td>4.0</td>\n",
       "      <td>8.0</td>\n",
       "      <td>-4.0</td>\n",
       "      <td>16.0</td>\n",
       "    </tr>\n",
       "    <tr>\n",
       "      <th>1</th>\n",
       "      <td>86</td>\n",
       "      <td>0</td>\n",
       "      <td>10.0</td>\n",
       "      <td>10.0</td>\n",
       "      <td>0.0</td>\n",
       "      <td>0.0</td>\n",
       "    </tr>\n",
       "    <tr>\n",
       "      <th>2</th>\n",
       "      <td>100</td>\n",
       "      <td>27</td>\n",
       "      <td>7.0</td>\n",
       "      <td>4.0</td>\n",
       "      <td>3.0</td>\n",
       "      <td>9.0</td>\n",
       "    </tr>\n",
       "    <tr>\n",
       "      <th>3</th>\n",
       "      <td>101</td>\n",
       "      <td>50</td>\n",
       "      <td>6.0</td>\n",
       "      <td>1.0</td>\n",
       "      <td>5.0</td>\n",
       "      <td>25.0</td>\n",
       "    </tr>\n",
       "    <tr>\n",
       "      <th>4</th>\n",
       "      <td>99</td>\n",
       "      <td>28</td>\n",
       "      <td>8.0</td>\n",
       "      <td>3.0</td>\n",
       "      <td>5.0</td>\n",
       "      <td>25.0</td>\n",
       "    </tr>\n",
       "    <tr>\n",
       "      <th>5</th>\n",
       "      <td>103</td>\n",
       "      <td>29</td>\n",
       "      <td>5.0</td>\n",
       "      <td>2.0</td>\n",
       "      <td>3.0</td>\n",
       "      <td>9.0</td>\n",
       "    </tr>\n",
       "    <tr>\n",
       "      <th>6</th>\n",
       "      <td>97</td>\n",
       "      <td>20</td>\n",
       "      <td>9.0</td>\n",
       "      <td>5.0</td>\n",
       "      <td>4.0</td>\n",
       "      <td>16.0</td>\n",
       "    </tr>\n",
       "    <tr>\n",
       "      <th>7</th>\n",
       "      <td>113</td>\n",
       "      <td>12</td>\n",
       "      <td>1.0</td>\n",
       "      <td>7.0</td>\n",
       "      <td>-6.0</td>\n",
       "      <td>36.0</td>\n",
       "    </tr>\n",
       "    <tr>\n",
       "      <th>8</th>\n",
       "      <td>112</td>\n",
       "      <td>6</td>\n",
       "      <td>2.0</td>\n",
       "      <td>9.0</td>\n",
       "      <td>-7.0</td>\n",
       "      <td>49.0</td>\n",
       "    </tr>\n",
       "    <tr>\n",
       "      <th>9</th>\n",
       "      <td>110</td>\n",
       "      <td>17</td>\n",
       "      <td>3.0</td>\n",
       "      <td>6.0</td>\n",
       "      <td>-3.0</td>\n",
       "      <td>9.0</td>\n",
       "    </tr>\n",
       "  </tbody>\n",
       "</table>\n",
       "</div>"
      ],
      "text/plain": [
       "    IQ  tv per hour  x rank  y rank    d   d^2\n",
       "0  106            7     4.0     8.0 -4.0  16.0\n",
       "1   86            0    10.0    10.0  0.0   0.0\n",
       "2  100           27     7.0     4.0  3.0   9.0\n",
       "3  101           50     6.0     1.0  5.0  25.0\n",
       "4   99           28     8.0     3.0  5.0  25.0\n",
       "5  103           29     5.0     2.0  3.0   9.0\n",
       "6   97           20     9.0     5.0  4.0  16.0\n",
       "7  113           12     1.0     7.0 -6.0  36.0\n",
       "8  112            6     2.0     9.0 -7.0  49.0\n",
       "9  110           17     3.0     6.0 -3.0   9.0"
      ]
     },
     "execution_count": 29,
     "metadata": {},
     "output_type": "execute_result"
    }
   ],
   "source": [
    "df"
   ]
  },
  {
   "cell_type": "code",
   "execution_count": 30,
   "id": "d0787982",
   "metadata": {},
   "outputs": [
    {
     "data": {
      "text/plain": [
       "-0.17575757575757578"
      ]
     },
     "execution_count": 30,
     "metadata": {},
     "output_type": "execute_result"
    }
   ],
   "source": [
    "rho"
   ]
  },
  {
   "cell_type": "markdown",
   "id": "2dd35b08",
   "metadata": {},
   "source": [
    "##### As we see it the same result as the built-in spearman function"
   ]
  },
  {
   "cell_type": "code",
   "execution_count": null,
   "id": "f5d195d4",
   "metadata": {},
   "outputs": [],
   "source": []
  },
  {
   "cell_type": "code",
   "execution_count": null,
   "id": "7b2d14ca",
   "metadata": {},
   "outputs": [],
   "source": []
  },
  {
   "cell_type": "code",
   "execution_count": null,
   "id": "39c306d5",
   "metadata": {},
   "outputs": [],
   "source": []
  }
 ],
 "metadata": {
  "kernelspec": {
   "display_name": "Python 3",
   "language": "python",
   "name": "python3"
  },
  "language_info": {
   "codemirror_mode": {
    "name": "ipython",
    "version": 3
   },
   "file_extension": ".py",
   "mimetype": "text/x-python",
   "name": "python",
   "nbconvert_exporter": "python",
   "pygments_lexer": "ipython3",
   "version": "3.8.5"
  }
 },
 "nbformat": 4,
 "nbformat_minor": 5
}
