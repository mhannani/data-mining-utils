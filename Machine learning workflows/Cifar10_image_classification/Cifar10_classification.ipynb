{
 "cells": [
  {
   "cell_type": "markdown",
   "metadata": {},
   "source": [
    "## End-to-end Multi-class cifar10 classification using Neural Networks"
   ]
  },
  {
   "cell_type": "markdown",
   "metadata": {},
   "source": [
    "###### This is a dataset of 60,000 28x28 grayscale images of the 10 digits, along with a test set of 10,000 images.\n",
    "Here are the classes in the dataset, as well as 10 random images from each:\n",
    "##### 1. airplane\n",
    "##### 2. automobile\n",
    "##### 3. bird\n",
    "##### 4. cat\n",
    "##### 5. deer\n",
    "##### 6. dog\n",
    "##### 7. frog\n",
    "##### 8. horse\n",
    "##### 9. ship\n",
    "##### 10. truck\n",
    "\n",
    "\n",
    "## 1. Problem :\n",
    "Identify the classes (i.e airplane, cat, bird, beer ...) using Tensoflow and Tensoflow Hub given an image.\n",
    "\n",
    "## 2. Data :\n",
    "The dataset is from Keras library.\n",
    "\n",
    "## 3. Evaluation :\n",
    "Since the problem we've is a classification problem, is the accuracy and the probability to predict the class correctly.\n",
    "\n",
    "## 4. Features :\n",
    " * We're dealing with images(unstructured data)\n",
    " * 10 different image classes.\n",
    " * There are 50000 different images (have labels) in the trainig set and 10000 images (no labels) in the test set\n",
    " "
   ]
  },
  {
   "cell_type": "code",
   "execution_count": 89,
   "metadata": {
    "tags": []
   },
   "outputs": [],
   "source": [
    "import numpy as np\n",
    "import tensorflow as tf\n",
    "import tensorflow_hub as hub \n",
    "from tensorflow.keras.datasets import cifar10\n",
    "import matplotlib.pyplot as plt\n",
    "from sklearn.model_selection import train_test_split"
   ]
  },
  {
   "cell_type": "code",
   "execution_count": 90,
   "metadata": {},
   "outputs": [],
   "source": [
    "(X_train, y_train), (X_test, y_test) = cifar10.load_data()"
   ]
  },
  {
   "cell_type": "code",
   "execution_count": 94,
   "metadata": {},
   "outputs": [
    {
     "data": {
      "text/plain": [
       "<matplotlib.image.AxesImage at 0x2f1d6164730>"
      ]
     },
     "execution_count": 94,
     "metadata": {},
     "output_type": "execute_result"
    },
    {
     "data": {
      "image/png": "[encoded data removed]",
      "text/plain": [
       "<Figure size 432x288 with 1 Axes>"
      ]
     },
     "metadata": {
      "needs_background": "light"
     },
     "output_type": "display_data"
    }
   ],
   "source": [
    "plt.imshow(X_train[0])"
   ]
  },
  {
   "cell_type": "code",
   "execution_count": 104,
   "metadata": {},
   "outputs": [
    {
     "data": {
      "image/png": "[encoded data removed]",
      "text/plain": [
       "<Figure size 432x288 with 1 Axes>"
      ]
     },
     "metadata": {
      "needs_background": "light"
     },
     "output_type": "display_data"
    }
   ],
   "source": [
    "import matplotlib.pyplot as plt\n",
    "import cv2\n",
    "\n",
    "img = cv2.imread('../../images/puppy.jpg')\n",
    "vals = img.mean(axis=2).flatten()\n",
    "b, bins, patches = plt.hist(vals, 255)\n",
    "plt.xlim([0,255])\n",
    "plt.show()"
   ]
  },
  {
   "cell_type": "markdown",
   "metadata": {},
   "source": [
    "### Create the validation set to better choose the modal hyperparameters"
   ]
  },
  {
   "cell_type": "code",
   "execution_count": 40,
   "metadata": {},
   "outputs": [],
   "source": [
    "X_train, X_val, y_train, y_val = train_test_split(X_train, y_train, test_size = 0.2, random_state = 42)"
   ]
  },
  {
   "cell_type": "markdown",
   "metadata": {},
   "source": [
    "Fortunetly we've our image in the same size, Let's jump to turning our images into tensors"
   ]
  },
  {
   "cell_type": "code",
   "execution_count": 45,
   "metadata": {},
   "outputs": [],
   "source": [
    "def image_processing(img):\n",
    "    \"\"\"\n",
    "    Turn image into tensor, and returns it.\n",
    "    :params\n",
    "    img: an ndarray-like\n",
    "    returns a tensor.\n",
    "    \"\"\"\n",
    "    \n",
    "    img_tensor = tf.constant(img)\n",
    "    return img_tensor"
   ]
  },
  {
   "cell_type": "markdown",
   "metadata": {},
   "source": [
    "In order to Tensorflow to work as expected we need to turn our training/testing/validating that into the format of (image, label)"
   ]
  },
  {
   "cell_type": "code",
   "execution_count": 62,
   "metadata": {},
   "outputs": [],
   "source": [
    "def img_label(img, label):\n",
    "    \"\"\"\n",
    "    Takes an image and its label and return it as a tuple of tensors.\n",
    "    \"\"\"\n",
    "    \n",
    "    img_tensor = image_processing(img)\n",
    "    label_tensor = tf.constant(label)\n",
    "    \n",
    "    return img_tensor, label_tensor\n",
    "    "
   ]
  },
  {
   "cell_type": "code",
   "execution_count": 63,
   "metadata": {
    "collapsed": true,
    "jupyter": {
     "outputs_hidden": true
    },
    "tags": []
   },
   "outputs": [
    {
     "data": {
      "text/plain": [
       "(<tf.Tensor: shape=(32, 32, 3), dtype=uint8, numpy=\n",
       " array([[[34, 36, 43],\n",
       "         [37, 37, 51],\n",
       "         [44, 44, 64],\n",
       "         ...,\n",
       "         [62, 73, 93],\n",
       "         [52, 63, 83],\n",
       "         [45, 57, 77]],\n",
       " \n",
       "        [[35, 35, 37],\n",
       "         [34, 34, 40],\n",
       "         [34, 33, 43],\n",
       "         ...,\n",
       "         [58, 69, 89],\n",
       "         [50, 60, 80],\n",
       "         [47, 58, 78]],\n",
       " \n",
       "        [[34, 33, 35],\n",
       "         [33, 32, 36],\n",
       "         [33, 32, 38],\n",
       "         ...,\n",
       "         [66, 77, 97],\n",
       "         [51, 62, 82],\n",
       "         [53, 64, 84]],\n",
       " \n",
       "        ...,\n",
       " \n",
       "        [[32, 32, 38],\n",
       "         [32, 31, 37],\n",
       "         [33, 33, 38],\n",
       "         ...,\n",
       "         [41, 38, 45],\n",
       "         [34, 31, 38],\n",
       "         [36, 32, 40]],\n",
       " \n",
       "        [[33, 31, 36],\n",
       "         [32, 30, 36],\n",
       "         [34, 32, 37],\n",
       "         ...,\n",
       "         [37, 35, 40],\n",
       "         [32, 29, 35],\n",
       "         [30, 28, 33]],\n",
       " \n",
       "        [[37, 32, 35],\n",
       "         [37, 32, 36],\n",
       "         [37, 33, 36],\n",
       "         ...,\n",
       "         [49, 47, 49],\n",
       "         [47, 45, 48],\n",
       "         [58, 56, 58]]], dtype=uint8)>,\n",
       " <tf.Tensor: shape=(1,), dtype=uint8, numpy=array([6], dtype=uint8)>)"
      ]
     },
     "execution_count": 63,
     "metadata": {},
     "output_type": "execute_result"
    }
   ],
   "source": [
    "img_label(X_train[0], y_train[0])"
   ]
  },
  {
   "cell_type": "markdown",
   "metadata": {},
   "source": [
    "To speed up training process in Tensorflow we need to train our model using batches; a small amount of our training set "
   ]
  },
  {
   "cell_type": "code",
   "execution_count": null,
   "metadata": {},
   "outputs": [],
   "source": [
    "def batchifiy_img():\n",
    "    \"\"\"\n",
    "    \n",
    "    \"\"\""
   ]
  },
  {
   "cell_type": "code",
   "execution_count": 65,
   "metadata": {},
   "outputs": [],
   "source": [
    "a = y_train[0] == labels"
   ]
  },
  {
   "cell_type": "code",
   "execution_count": 66,
   "metadata": {},
   "outputs": [
    {
     "data": {
      "text/plain": [
       "array([0, 0, 0, 0, 0, 0, 1, 0, 0, 0])"
      ]
     },
     "execution_count": 66,
     "metadata": {},
     "output_type": "execute_result"
    }
   ],
   "source": [
    "a.astype(int)"
   ]
  },
  {
   "cell_type": "code",
   "execution_count": 73,
   "metadata": {},
   "outputs": [
    {
     "data": {
      "text/plain": [
       "array([0, 1, 2, 3, 4, 5, 6, 7, 8, 9], dtype=uint8)"
      ]
     },
     "execution_count": 73,
     "metadata": {},
     "output_type": "execute_result"
    }
   ],
   "source": [
    "labels = np.unique(y_train)\n",
    "labels"
   ]
  },
  {
   "cell_type": "code",
   "execution_count": 77,
   "metadata": {},
   "outputs": [],
   "source": [
    "boolean_labels = [label == labels for label in y_train]"
   ]
  },
  {
   "cell_type": "code",
   "execution_count": 82,
   "metadata": {},
   "outputs": [
    {
     "data": {
      "text/plain": [
       "[array([False, False, False, False, False, False,  True, False, False,\n",
       "        False]),\n",
       " array([False, False,  True, False, False, False, False, False, False,\n",
       "        False]),\n",
       " array([False, False, False, False, False,  True, False, False, False,\n",
       "        False])]"
      ]
     },
     "execution_count": 82,
     "metadata": {},
     "output_type": "execute_result"
    }
   ],
   "source": [
    "boolean_labels[:3]"
   ]
  },
  {
   "cell_type": "code",
   "execution_count": 86,
   "metadata": {},
   "outputs": [
    {
     "data": {
      "text/plain": [
       "array([[6],\n",
       "       [2],\n",
       "       [5]], dtype=uint8)"
      ]
     },
     "execution_count": 86,
     "metadata": {},
     "output_type": "execute_result"
    }
   ],
   "source": [
    "y_train[:3]"
   ]
  },
  {
   "cell_type": "code",
   "execution_count": null,
   "metadata": {},
   "outputs": [],
   "source": []
  }
 ],
 "metadata": {
  "kernelspec": {
   "display_name": "Python 3",
   "language": "python",
   "name": "python3"
  },
  "language_info": {
   "codemirror_mode": {
    "name": "ipython",
    "version": 3
   },
   "file_extension": ".py",
   "mimetype": "text/x-python",
   "name": "python",
   "nbconvert_exporter": "python",
   "pygments_lexer": "ipython3",
   "version": "3.8.8"
  }
 },
 "nbformat": 4,
 "nbformat_minor": 4
}
