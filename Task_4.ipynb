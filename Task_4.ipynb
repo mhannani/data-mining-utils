{
 "cells": [
  {
   "cell_type": "markdown",
   "id": "786a5683-6f77-4993-925e-996e028a350e",
   "metadata": {},
   "source": [
    "# Regression parameter estimation"
   ]
  },
  {
   "cell_type": "code",
   "execution_count": null,
   "id": "6d73d44c-c9d8-4d87-9ebe-baf130af7bec",
   "metadata": {},
   "outputs": [],
   "source": []
  }
 ],
 "metadata": {
  "kernelspec": {
   "display_name": "Python 3",
   "language": "python",
   "name": "python3"
  },
  "language_info": {
   "codemirror_mode": {
    "name": "ipython",
    "version": 3
   },
   "file_extension": ".py",
   "mimetype": "text/x-python",
   "name": "python",
   "nbconvert_exporter": "python",
   "pygments_lexer": "ipython3",
   "version": "3.8.8"
  }
 },
 "nbformat": 4,
 "nbformat_minor": 5
}
