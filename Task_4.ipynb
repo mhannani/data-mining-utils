{
 "cells": [
  {
   "cell_type": "markdown",
   "id": "786a5683-6f77-4993-925e-996e028a350e",
   "metadata": {},
   "source": [
    "# Regression parameter estimation"
   ]
  },
  {
   "cell_type": "code",
   "execution_count": 128,
   "id": "621992a6-72cd-4ea1-bb04-7d8516514552",
   "metadata": {},
   "outputs": [],
   "source": [
    "import numpy as np\n",
    "import matplotlib.pyplot as plt"
   ]
  },
  {
   "cell_type": "markdown",
   "id": "b66a8b8c-09c0-47f8-8d18-ebb803808490",
   "metadata": {},
   "source": [
    "In this notebook we gonna implement the simple linear regression using python"
   ]
  },
  {
   "cell_type": "markdown",
   "id": "761a1cdf-d479-4a7d-8862-2566656c3ab6",
   "metadata": {},
   "source": [
    "simple lineare regression model is given by the equation : $y_{i} = \\alpha + \\beta * x_{i} + \\epsilon_{i}$"
   ]
  },
  {
   "cell_type": "markdown",
   "id": "e66eafb0-6135-464f-bf58-ca546c05e619",
   "metadata": {},
   "source": [
    "#### $\\alpha$ and $\\beta$ parameters estimation"
   ]
  },
  {
   "cell_type": "markdown",
   "id": "3a612f4b-5c6d-4853-bbd2-4ee08f39675b",
   "metadata": {},
   "source": [
    "The goal is to find the estimated values of $\\hat{\\alpha}$ and $\\hat{\\beta}$ that minimize the sum of the squared residual $\\hat{\\epsilon_{i}}$ (the difference between the actual and predicted value)."
   ]
  },
  {
   "cell_type": "markdown",
   "id": "3f340d62-6a70-4c08-b84c-8fbf2e7cc16a",
   "metadata": {},
   "source": [
    "The value of $\\hat{\\alpha}$ and $\\hat{\\beta}$ are :"
   ]
  },
  {
   "cell_type": "markdown",
   "id": "261e6faf-a132-4973-a001-4cc77bfbc571",
   "metadata": {},
   "source": [
    "$$\n",
    "\\begin{array}{l}\n",
    "\\widehat{\\alpha}=\\bar{y}-(\\widehat{\\beta} \\bar{x}) \\\\\n",
    "\\widehat{\\beta}=\\frac{\\sum_{i=1}^{n}\\left(x_{i}-\\bar{x}\\right)\\left(y_{i}-\\bar{y}\\right)}{\\sum_{i-1}^{n}\\left(x_{i}-\\bar{x}\\right)^{2}}\n",
    "\\end{array}\n",
    "$$"
   ]
  },
  {
   "cell_type": "code",
   "execution_count": 136,
   "id": "5010654c-fe42-461c-80b8-c1723b571c7a",
   "metadata": {},
   "outputs": [],
   "source": [
    "# Data from wikipedia : https://en.wikipedia.org/wiki/Simple_linear_regression\n",
    "X = np.array([1.47, 1.50, 1.52, 1.55, 1.57, 1.60, 1.63, 1.65, 1.68, 1.70, 1.73, 1.75, 1.78, 1.80, 1.83])\n",
    "y = np.array([52.21, 53.12, 54.48, 55.84, 57.20, 58.57, 59.93, 61.29, 63.11, 64.47, 66.28, 68.10, 69.92, 72.19, 74.46])"
   ]
  },
  {
   "cell_type": "markdown",
   "id": "03c3abb9-dbae-4a92-8327-e0668693f520",
   "metadata": {},
   "source": [
    "### 1. Calculating $\\widehat{\\beta}$ :"
   ]
  },
  {
   "cell_type": "code",
   "execution_count": 130,
   "id": "c13574a0-47cb-4e08-b1fd-814af4a3ecaf",
   "metadata": {},
   "outputs": [
    {
     "data": {
      "text/plain": [
       "61.272186542110624"
      ]
     },
     "execution_count": 130,
     "metadata": {},
     "output_type": "execute_result"
    }
   ],
   "source": [
    "beta_hat = np.sum((X - np.mean(X)) * (y - np.mean(y))) / np.sum((X - np.mean(X)) ** 2)\n",
    "beta_hat"
   ]
  },
  {
   "cell_type": "markdown",
   "id": "59ab1213-a344-41b5-b907-3cfba5ec377a",
   "metadata": {},
   "source": [
    "### 1. Calculating $\\widehat{\\alpha}$ :"
   ]
  },
  {
   "cell_type": "code",
   "execution_count": 131,
   "id": "a154d5a0-24a0-409d-a313-1d54da6c0d67",
   "metadata": {},
   "outputs": [
    {
     "data": {
      "text/plain": [
       "-39.06195591884392"
      ]
     },
     "execution_count": 131,
     "metadata": {},
     "output_type": "execute_result"
    }
   ],
   "source": [
    "alpha_hat = np.mean(y) - beta_hat * np.mean(X)\n",
    "alpha_hat"
   ]
  },
  {
   "cell_type": "code",
   "execution_count": 132,
   "id": "86c21c68-cd52-4bcd-930d-897d89891f7e",
   "metadata": {},
   "outputs": [
    {
     "data": {
      "image/png": "[encoded data removed]",
      "text/plain": [
       "<Figure size 432x288 with 1 Axes>"
      ]
     },
     "metadata": {
      "needs_background": "light"
     },
     "output_type": "display_data"
    }
   ],
   "source": [
    "def plot_data(X, y):\n",
    "    \"\"\"\n",
    "    Plot the data in a scatter plot. in the given figure with x-label and y-label axis.\n",
    "    :params\n",
    "    x: array-like\n",
    "       data for x-axis\n",
    "    y: array-like\n",
    "       data for y-axis\n",
    "    return NULL\n",
    "    \"\"\"\n",
    "    \n",
    "    fig = plt.figure()\n",
    "    plt.plot(X, y, 'bo', ms=3, mec='k')\n",
    "    plt.xlabel('Height (m), xi')\n",
    "    plt.ylabel('Mass (kg), yi')\n",
    "\n",
    "plot_data(X, y)"
   ]
  },
  {
   "cell_type": "code",
   "execution_count": 133,
   "id": "712c7cc5-553e-46cb-9778-4875f90beb75",
   "metadata": {},
   "outputs": [],
   "source": [
    "def plot_linear_fit(X, y_true, theta):\n",
    "    \"\"\"\n",
    "    Plot the training data and the lineare fit on the same figure.\n",
    "    :params\n",
    "    :X array-like\n",
    "        The design matrix.\n",
    "    :y_true array-like\n",
    "        The true label value.\n",
    "    : theta array-like\n",
    "        The optimal theta array found after running gradient descent algorithm.\n",
    "    return Null\n",
    "    \"\"\"\n",
    "    \n",
    "    predicted_y = np.dot(X, theta)\n",
    "    plot_data(X[:, 1], y_true)\n",
    "    plt.plot(X[:, 1], predicted_y, '-')\n",
    "    plt.legend(['our training data', 'lineare regression fit']);"
   ]
  },
  {
   "cell_type": "code",
   "execution_count": 134,
   "id": "76eb6ef7-acc1-42ea-9baa-8d19085354b8",
   "metadata": {},
   "outputs": [],
   "source": [
    "theta = np.array([alpha_hat, beta_hat])\n",
    "# Adding one columns with ones\n",
    "X = np.array([[1. , 1.47],[1. , 1.5 ], [1. , 1.52], [1. , 1.55], [1. , 1.57], [1. , 1.6 ],\n",
    "             [1. , 1.63], [1. , 1.65], [1. , 1.68], [1. , 1.7 ], [1. , 1.73], [1. , 1.75],\n",
    "             [1.  , 1.78], [1.  , 1.8 ], [1.  , 1.83]])"
   ]
  },
  {
   "cell_type": "code",
   "execution_count": 135,
   "id": "071010ab-0f65-4d73-95f4-a32ddea5c577",
   "metadata": {},
   "outputs": [
    {
     "data": {
      "image/png": "[encoded data removed]",
      "text/plain": [
       "<Figure size 432x288 with 1 Axes>"
      ]
     },
     "metadata": {
      "needs_background": "light"
     },
     "output_type": "display_data"
    }
   ],
   "source": [
    "plot_linear_fit(X, y, theta)"
   ]
  }
 ],
 "metadata": {
  "kernelspec": {
   "display_name": "Python 3",
   "language": "python",
   "name": "python3"
  },
  "language_info": {
   "codemirror_mode": {
    "name": "ipython",
    "version": 3
   },
   "file_extension": ".py",
   "mimetype": "text/x-python",
   "name": "python",
   "nbconvert_exporter": "python",
   "pygments_lexer": "ipython3",
   "version": "3.8.5"
  }
 },
 "nbformat": 4,
 "nbformat_minor": 5
}
