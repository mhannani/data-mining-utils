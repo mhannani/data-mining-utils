{
 "cells": [
  {
   "cell_type": "markdown",
   "id": "8a53ad5d-bae1-43ab-af48-4b3fce4afbfe",
   "metadata": {},
   "source": [
    "# Computing similarity measures between two images"
   ]
  },
  {
   "cell_type": "code",
   "execution_count": 4,
   "id": "6495863e-bd13-47a6-86ce-f016337e171f",
   "metadata": {},
   "outputs": [],
   "source": [
    "import matplotlib.pyplot as plt\n",
    "import numpy as np\n",
    "from similarity.similarity import Measures"
   ]
  },
  {
   "cell_type": "markdown",
   "id": "5b210732-c736-4d43-9a0b-d5ac49e76313",
   "metadata": {},
   "source": [
    "The state or fact of being similar or Similarity measures how much two objects are alike. Similarity measure in a data mining context is a distance with dimensions representing features of the objects. If distance is small, two objects are very similar where as if distance is large we will observe low degree of similarity.\n",
    "\n",
    "There are lot of similarity measures. But here we will look into 2 most important measures"
   ]
  },
  {
   "cell_type": "markdown",
   "id": "075f63f7-0b78-42d1-a669-f1a7d18397d0",
   "metadata": {},
   "source": [
    "## 1. Cosine similarity measure"
   ]
  },
  {
   "cell_type": "markdown",
   "id": "44977654-f5e6-4fdd-b56e-38488163697c",
   "metadata": {},
   "source": [
    "Cosine similarity is a metric used to measure how similar the documents are irrespective of their size. Mathematically, it measures the cosine of the angle between two vectors projected in a multi-dimensional space. The cosine similarity is advantageous because even if the two similar documents are far apart by the Euclidean distance (due to the size of the document), chances are they may still be oriented closer together. The smaller the angle, higher the cosine similarity."
   ]
  },
  {
   "cell_type": "markdown",
   "id": "dc84e33f-3c0c-418a-8672-ac9cbbfac5f6",
   "metadata": {},
   "source": [
    "![houses](images/cosine_similarity.png)"
   ]
  },
  {
   "cell_type": "markdown",
   "id": "d8412212-f1d3-4b5b-9857-7fe3cec32bfd",
   "metadata": {},
   "source": [
    "$$\\operatorname{Cos} \\theta=\\frac{\\vec{a} \\cdot \\vec{b}}{\\|\\vec{a}\\|\\|\\vec{b}\\|}=\\frac{\\sum_{1}^{n} a_{i} b_{i}}{\\sqrt{\\sum_{1}^{n} a_{i}^{2}} \\sqrt{\\sum_{1}^{n} b_{i}^{2}}}$$"
   ]
  },
  {
   "cell_type": "code",
   "execution_count": 5,
   "id": "113e3c3d-3ca4-49b1-b2c5-be673a339968",
   "metadata": {},
   "outputs": [],
   "source": [
    "# Read images\n",
    "img_1 = plt.imread('images/image1_.jpg')\n",
    "img_2 = plt.imread('images/image2_.jpg')"
   ]
  },
  {
   "cell_type": "code",
   "execution_count": 6,
   "id": "57515966-333c-4a54-ac48-a514c390fcc6",
   "metadata": {},
   "outputs": [],
   "source": [
    "c = Measures.cosine([0, 1], [1, 1])"
   ]
  },
  {
   "cell_type": "code",
   "execution_count": 7,
   "id": "3bc03811-0b42-4a3f-bc27-926d4e2e091b",
   "metadata": {},
   "outputs": [
    {
     "data": {
      "text/plain": [
       "0.7071067811865475"
      ]
     },
     "execution_count": 7,
     "metadata": {},
     "output_type": "execute_result"
    }
   ],
   "source": [
    "c"
   ]
  },
  {
   "cell_type": "code",
   "execution_count": 8,
   "id": "50494924-9556-431b-b289-f25a209c718a",
   "metadata": {},
   "outputs": [],
   "source": [
    "# Let's use the built-in function in scikit-learn to compute the cosine similarity\n",
    "from sklearn.metrics.pairwise import cosine_similarity"
   ]
  },
  {
   "cell_type": "code",
   "execution_count": 9,
   "id": "286204b4-eab0-46f9-b8d8-9ba9296cdebf",
   "metadata": {},
   "outputs": [
    {
     "data": {
      "text/plain": [
       "array([[0.70710678]])"
      ]
     },
     "execution_count": 9,
     "metadata": {},
     "output_type": "execute_result"
    }
   ],
   "source": [
    "cosine_similarity([[0, 1]], [[1, 1]])"
   ]
  },
  {
   "cell_type": "markdown",
   "id": "316a0f52-3669-493a-9ea4-997fa50fdb97",
   "metadata": {},
   "source": [
    "Indeed, We got the same result !"
   ]
  },
  {
   "cell_type": "markdown",
   "id": "3f4a07d2-b8d9-4690-bb98-dd068cb86cfb",
   "metadata": {},
   "source": [
    "## 2. Jaccard similarity measure"
   ]
  },
  {
   "cell_type": "code",
   "execution_count": 10,
   "id": "be7222b2-c604-43ad-a839-e1707f44e324",
   "metadata": {},
   "outputs": [],
   "source": [
    "img_1 = plt.imread('images/image1_.jpg')\n",
    "img_2 = plt.imread('images/image2_.jpg')"
   ]
  },
  {
   "cell_type": "code",
   "execution_count": 11,
   "id": "d9c5a209-66f6-4e7b-b11e-1607d782bd9a",
   "metadata": {},
   "outputs": [
    {
     "data": {
      "text/plain": [
       "0.1423841059602649"
      ]
     },
     "execution_count": 11,
     "metadata": {},
     "output_type": "execute_result"
    }
   ],
   "source": [
    "Measures.jaccard(img_1, img_2)"
   ]
  },
  {
   "cell_type": "code",
   "execution_count": 12,
   "id": "99b6bdd8-ca5b-4d90-8515-57b5cd4e63cf",
   "metadata": {},
   "outputs": [],
   "source": [
    "# Using built-in function on scikit-learn\n",
    "from sklearn.metrics import jaccard_score"
   ]
  },
  {
   "cell_type": "code",
   "execution_count": 13,
   "id": "09624013-e665-4699-ab62-ec4591a6e4f7",
   "metadata": {},
   "outputs": [
    {
     "data": {
      "text/plain": [
       "0.1423841059602649"
      ]
     },
     "execution_count": 13,
     "metadata": {},
     "output_type": "execute_result"
    }
   ],
   "source": [
    "# convert these images into boolean arrys first\n",
    "from utils.tr_color_2_bi_img import tr_color_2_bi_img\n",
    "bi_img_1 = tr_color_2_bi_img(img_1, 175).flatten()\n",
    "bi_img_2 = tr_color_2_bi_img(img_2, 175).flatten()\n",
    "\n",
    "jaccard_score(bi_img_1, bi_img_2)"
   ]
  },
  {
   "cell_type": "code",
   "execution_count": 14,
   "id": "0ab9b0ac-2d38-4363-98cf-08eba379ed8d",
   "metadata": {},
   "outputs": [],
   "source": [
    "# We got the same result."
   ]
  },
  {
   "cell_type": "code",
   "execution_count": 15,
   "id": "80da4f3d-f922-4e5f-9361-7e0b099472ec",
   "metadata": {},
   "outputs": [
    {
     "data": {
      "text/plain": [
       "0.6470588235294118"
      ]
     },
     "execution_count": 15,
     "metadata": {},
     "output_type": "execute_result"
    }
   ],
   "source": [
    "# jaccard similarity between arrays of boolearn\n",
    "Measures.jaccard([[1,2,3], [1,2,3]], [[1,3,6], [1,2,3]], as_binary=False)"
   ]
  }
 ],
 "metadata": {
  "kernelspec": {
   "display_name": "Python 3",
   "language": "python",
   "name": "python3"
  },
  "language_info": {
   "codemirror_mode": {
    "name": "ipython",
    "version": 3
   },
   "file_extension": ".py",
   "mimetype": "text/x-python",
   "name": "python",
   "nbconvert_exporter": "python",
   "pygments_lexer": "ipython3",
   "version": "3.8.5"
  }
 },
 "nbformat": 4,
 "nbformat_minor": 5
}
